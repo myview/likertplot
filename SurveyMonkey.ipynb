{
 "cells": [
  {
   "cell_type": "code",
   "execution_count": 1,
   "metadata": {},
   "outputs": [],
   "source": [
    "import requests\n",
    "import json\n",
    "\n",
    "client = requests.session()\n",
    "\n",
    "headers = {\n",
    "\"Authorization\": \"bearer %s\" % \"xxx\",\n",
    "\"Content-Type\": \"application/json\"\n",
    "}"
   ]
  },
  {
   "cell_type": "code",
   "execution_count": 2,
   "metadata": {},
   "outputs": [
    {
     "name": "stdout",
     "output_type": "stream",
     "text": [
      "{'data': [{'id': '283777383', 'title': 'Führungsbeurteilung 2020', 'nickname': '', 'href': 'https://api.surveymonkey.net/v3/surveys/283777383'}, {'id': '280530736', 'title': 'Digitec Galaxus - Stimmungsbarometer / baromètre d’ambiance 2020-04', 'nickname': '', 'href': 'https://api.surveymonkey.net/v3/surveys/280530736'}, {'id': '275442650', 'title': 'Stimmungsbarometer / baromètre d’ambiance 2020-Q1', 'nickname': '', 'href': 'https://api.surveymonkey.net/v3/surveys/275442650'}, {'id': '274939207', 'title': 'Team-Feedback', 'nickname': '', 'href': 'https://api.surveymonkey.net/v3/surveys/274939207'}, {'id': '270568101', 'title': 'Stimmungsbarometer / baromètre d’ambiance 2019-Q4', 'nickname': '', 'href': 'https://api.surveymonkey.net/v3/surveys/270568101'}, {'id': '181966593', 'title': 'Stimmungsbarometer / baromètre d’ambiance 2019-Q3', 'nickname': '', 'href': 'https://api.surveymonkey.net/v3/surveys/181966593'}, {'id': '174879727', 'title': 'Führungsbeurteilung 2019', 'nickname': '', 'href': 'https://api.surveymonkey.net/v3/surveys/174879727'}, {'id': '171177108', 'title': 'Stimmungsbarometer / baromètre d’ambiance 19Q2', 'nickname': '', 'href': 'https://api.surveymonkey.net/v3/surveys/171177108'}, {'id': '166347864', 'title': 'Lohnnebenleistungen /\\xa0Prestations accessoires', 'nickname': '', 'href': 'https://api.surveymonkey.net/v3/surveys/166347864'}, {'id': '164402419', 'title': 'Stimmungsbarometer / baromètre d’ambiance', 'nickname': '', 'href': 'https://api.surveymonkey.net/v3/surveys/164402419'}, {'id': '166089885', 'title': 'Führungsbeurteilung', 'nickname': '', 'href': 'https://api.surveymonkey.net/v3/surveys/166089885'}, {'id': '161902217', 'title': 'Führungskräfte Feedback', 'nickname': '', 'href': 'https://api.surveymonkey.net/v3/surveys/161902217'}, {'id': '160657101', 'title': 'Vorgesetzten Umfrage', 'nickname': '', 'href': 'https://api.surveymonkey.net/v3/surveys/160657101'}, {'id': '155483747', 'title': 'Support your local HR!', 'nickname': '', 'href': 'https://api.surveymonkey.net/v3/surveys/155483747'}, {'id': '63269870', 'title': 'Stimmungsbarometer / baromètre d’ambiance', 'nickname': '', 'href': 'https://api.surveymonkey.net/v3/surveys/63269870'}, {'id': '150794908', 'title': 'Neues Tool für die Zeugniserstellung', 'nickname': '', 'href': 'https://api.surveymonkey.net/v3/surveys/150794908'}, {'id': '111096729', 'title': 'Kaderevent Logistik', 'nickname': '', 'href': 'https://api.surveymonkey.net/v3/surveys/111096729'}, {'id': '76038666', 'title': 'Führungstag 2016', 'nickname': '', 'href': 'https://api.surveymonkey.net/v3/surveys/76038666'}, {'id': '69204090', 'title': 'Rekrutierungsfragebogen', 'nickname': '', 'href': 'https://api.surveymonkey.net/v3/surveys/69204090'}, {'id': '59829827', 'title': 'Stimmungsbarometer', 'nickname': 'Stimmungsbarometer', 'href': 'https://api.surveymonkey.net/v3/surveys/59829827'}, {'id': '76752898', 'title': 'Umfrage Callcenter', 'nickname': '', 'href': 'https://api.surveymonkey.net/v3/surveys/76752898'}, {'id': '76279584', 'title': 'Umfrage E-Services', 'nickname': '', 'href': 'https://api.surveymonkey.net/v3/surveys/76279584'}, {'id': '68318739', 'title': 'Qualitätssicherung im Engineering', 'nickname': '', 'href': 'https://api.surveymonkey.net/v3/surveys/68318739'}], 'per_page': 50, 'page': 1, 'total': 23, 'links': {'self': 'https://api.surveymonkey.net/v3/surveys?page=1&per_page=50'}}\n"
     ]
    }
   ],
   "source": [
    "data = {}\n",
    "\n",
    "HOST = \"https://api.surveymonkey.net\"\n",
    "SURVEY_LIST_ENDPOINT = \"/v3/surveys\"\n",
    "\n",
    "uri = \"%s%s\" % (HOST, SURVEY_LIST_ENDPOINT)\n",
    "\n",
    "response = client.get(uri, headers=headers)\n",
    "\n",
    "response_json = response.json()\n",
    "#survey_list = response_json[\"data\"][\"surveys\"]\n",
    "\n",
    "print(response_json)"
   ]
  },
  {
   "cell_type": "code",
   "execution_count": 5,
   "metadata": {},
   "outputs": [
    {
     "name": "stdout",
     "output_type": "stream",
     "text": [
      "283777383 is Führungsbeurteilung 2020\n",
      "280530736 is Digitec Galaxus - Stimmungsbarometer / baromètre d’ambiance 2020-04\n",
      "275442650 is Stimmungsbarometer / baromètre d’ambiance 2020-Q1\n",
      "274939207 is Team-Feedback\n",
      "270568101 is Stimmungsbarometer / baromètre d’ambiance 2019-Q4\n",
      "181966593 is Stimmungsbarometer / baromètre d’ambiance 2019-Q3\n",
      "174879727 is Führungsbeurteilung 2019\n",
      "171177108 is Stimmungsbarometer / baromètre d’ambiance 19Q2\n",
      "166347864 is Lohnnebenleistungen / Prestations accessoires\n",
      "164402419 is Stimmungsbarometer / baromètre d’ambiance\n",
      "166089885 is Führungsbeurteilung\n",
      "161902217 is Führungskräfte Feedback\n",
      "160657101 is Vorgesetzten Umfrage\n",
      "155483747 is Support your local HR!\n",
      "63269870 is Stimmungsbarometer / baromètre d’ambiance\n",
      "150794908 is Neues Tool für die Zeugniserstellung\n",
      "111096729 is Kaderevent Logistik\n",
      "76038666 is Führungstag 2016\n",
      "69204090 is Rekrutierungsfragebogen\n",
      "59829827 is Stimmungsbarometer\n",
      "76752898 is Umfrage Callcenter\n",
      "76279584 is Umfrage E-Services\n",
      "68318739 is Qualitätssicherung im Engineering\n"
     ]
    }
   ],
   "source": [
    "for x in response_json['data']:\n",
    "    print(f'{x[\"id\"]} is {x[\"title\"]}')"
   ]
  },
  {
   "cell_type": "code",
   "execution_count": null,
   "metadata": {},
   "outputs": [],
   "source": []
  }
 ],
 "metadata": {
  "kernelspec": {
   "display_name": "Python 3",
   "language": "python",
   "name": "python3"
  },
  "language_info": {
   "codemirror_mode": {
    "name": "ipython",
    "version": 3
   },
   "file_extension": ".py",
   "mimetype": "text/x-python",
   "name": "python",
   "nbconvert_exporter": "python",
   "pygments_lexer": "ipython3",
   "version": "3.6.9"
  }
 },
 "nbformat": 4,
 "nbformat_minor": 4
}
